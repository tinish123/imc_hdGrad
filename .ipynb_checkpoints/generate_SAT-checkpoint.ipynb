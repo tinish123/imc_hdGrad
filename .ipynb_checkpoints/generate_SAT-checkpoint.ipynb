{
 "cells": [
  {
   "cell_type": "code",
   "execution_count": 1,
   "id": "30efe6ab",
   "metadata": {},
   "outputs": [],
   "source": [
    "import numpy as np\n",
    "import random\n",
    "from walksat_package import*\n",
    "import time\n",
    "import math\n",
    "import pickle"
   ]
  },
  {
   "cell_type": "markdown",
   "id": "85a4d10d",
   "metadata": {},
   "source": [
    "- New Instances are generated using the gen_kSATprob(N,M,k) function.\n",
    "- The generate CNF matrix is saved to a .cnf file using the clausemat2CNF() function that takes as input the save_dir (where the .cnf files are to be stored), clause_mat (returned by the gen_kSATprob function) and instance ID.\n",
    "- Saved CNF files will have the usual UF naming: ufX-0Y.cnf, where X and Y are the values of N and instance ID provided respectively."
   ]
  },
  {
   "cell_type": "code",
   "execution_count": 2,
   "id": "afe72bbc",
   "metadata": {},
   "outputs": [],
   "source": [
    "load_dir = './data/'\n",
    "save_dir = './new_data/'\n",
    "sat_dir = './sat/'"
   ]
  },
  {
   "cell_type": "code",
   "execution_count": 3,
   "id": "45df9da2",
   "metadata": {},
   "outputs": [
    {
     "name": "stdout",
     "output_type": "stream",
     "text": [
      "[[-1.  0. -1. -1.]\n",
      " [ 1.  1.  0. -1.]\n",
      " [ 1. -1.  1.  0.]\n",
      " [ 0.  1.  1.  1.]\n",
      " [ 1.  0. -1.  1.]\n",
      " [ 1.  0.  1.  1.]\n",
      " [ 0. -1.  1. -1.]\n",
      " [ 1.  1.  1.  0.]\n",
      " [ 1. -1. -1.  0.]\n",
      " [-1. -1.  0. -1.]]\n"
     ]
    }
   ],
   "source": [
    "#Generate a single uniform random k-SAT instance with N variables, M clauses and k order\n",
    "N = 4\n",
    "M = 10\n",
    "k = 3\n",
    "clause_mat = gen_kSATprob(N,M,k)\n",
    "print(clause_mat)"
   ]
  },
  {
   "cell_type": "code",
   "execution_count": 5,
   "id": "b32acbfc",
   "metadata": {},
   "outputs": [
    {
     "name": "stdout",
     "output_type": "stream",
     "text": [
      "Success Rate:  1.0\n",
      "Successfully Generated 1 problems\n",
      "Success Rate:  0.0\n",
      "Success Rate:  1.0\n",
      "Successfully Generated 2 problems\n"
     ]
    }
   ],
   "source": [
    "############Select the configuration below for the new SAT instances to be generated#########\n",
    "\n",
    "#-----------\n",
    "N = 14\n",
    "M = 64\n",
    "k = 3\n",
    "#-----------\n",
    "\n",
    "num_instances = 2 # Number of instances of that configuration\n",
    "instance_counter = 0\n",
    "max_iter = 2 #Number of iterations per instance, it can be kept low with high value for max_flips\n",
    "max_flips = 10000 \n",
    "p = 0.4 \n",
    "err_map = get_errorMap(load_dir,0) #Ideal conditions, no memristor variations captured since the second argument is set to zero.\n",
    "while instance_counter<num_instances:\n",
    "    clause_mat = gen_kSATprob(N,M,k)\n",
    "    _, prob_s, _, _, _ = WalkSat_Solver(p,clause_mat,max_iter,max_flips,err_map)\n",
    "    print(\"Success Rate: \",prob_s)\n",
    "    if prob_s > 0:\n",
    "        instance_counter = instance_counter + 1\n",
    "        clausemat2CNF(save_dir,clause_mat,instance_counter)\n",
    "        print(\"Successfully Generated \"+str(instance_counter)+\" problems\")"
   ]
  },
  {
   "cell_type": "code",
   "execution_count": null,
   "id": "0faeeea3",
   "metadata": {},
   "outputs": [],
   "source": []
  }
 ],
 "metadata": {
  "kernelspec": {
   "display_name": "Python 3 (ipykernel)",
   "language": "python",
   "name": "python3"
  },
  "language_info": {
   "codemirror_mode": {
    "name": "ipython",
    "version": 3
   },
   "file_extension": ".py",
   "mimetype": "text/x-python",
   "name": "python",
   "nbconvert_exporter": "python",
   "pygments_lexer": "ipython3",
   "version": "3.11.5"
  }
 },
 "nbformat": 4,
 "nbformat_minor": 5
}
